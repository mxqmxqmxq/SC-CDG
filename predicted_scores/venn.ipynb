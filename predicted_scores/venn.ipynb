{
 "cells": [
  {
   "cell_type": "code",
   "execution_count": 1,
   "metadata": {},
   "outputs": [],
   "source": [
    "####分别从GGNet、PathNet、PPNet中选取得分前一百的predicted gene\n",
    "import pandas as pd"
   ]
  },
  {
   "cell_type": "code",
   "execution_count": 10,
   "metadata": {},
   "outputs": [],
   "source": [
    "###read txt\n",
    "col=['name','score']\n",
    "PPN=pd.read_table('./predicted_socres_PPNet.txt',sep='\\t',names=col)[1:101]['name']\n",
    "PN=pd.read_table('./predicted_socres_PathNet.txt',sep='\\t',names=col)[1:101]['name']\n",
    "GN=pd.read_table('./predicted_socres_GGNet.txt',sep='\\t',names=col)[1:101]['name']\n",
    "PPN.to_csv('/root/rlap-main_fe_gnn/predicted_scores/top100_predicted_gene/PPN_Top100.csv')\n",
    "PN.to_csv('/root/rlap-main_fe_gnn/predicted_scores/top100_predicted_gene/PN_Top100.csv')\n",
    "GN.to_csv('/root/rlap-main_fe_gnn/predicted_scores/top100_predicted_gene/GN_Top100.csv')"
   ]
  },
  {
   "cell_type": "code",
   "execution_count": 13,
   "metadata": {},
   "outputs": [
    {
     "name": "stdout",
     "output_type": "stream",
     "text": [
      "Number of CDGs in GGNet: 29.411764705882355\n",
      "Number of CDGs in PathNet: 82.14285714285714\n",
      "Number of CDGs in PPNet: 40.0\n",
      "Number of CDGs in GGNet|PathNet: 75.0\n",
      "Number of CDGs in GGNet|PPNet: 41.66666666666667\n",
      "Number of CDGs in PathNet|PPNet: 80.0\n",
      "Number of CDGs in GGNet|PathNet|PPNet: 96.96969696969697\n"
     ]
    }
   ],
   "source": [
    "###计算每个部分有多少cdgs\n",
    "ff=pd.read_csv('/root/rlap-main_fe_gnn/predicted_scores/EVenn.csv')\n",
    "col=['name']\n",
    "cdgs=pd.read_table('/root/autodl-tmp/HGDC-master/data/796_drivers.txt',names=col)\n",
    "ff\n",
    "# 遍历每一列\n",
    "for i in ff.columns:\n",
    "    # 计算交集\n",
    "    intersection = set(ff[i].dropna()).intersection(set(cdgs['name']))\n",
    "    \n",
    "    # 打印每个部分中CDGs的数量\n",
    "    print(f\"Number of CDGs in {i}: {len(intersection)/len(ff[i].dropna())*100}\")"
   ]
  },
  {
   "cell_type": "code",
   "execution_count": 43,
   "metadata": {},
   "outputs": [],
   "source": [
    "ff=pd.read_table('/root/rlap-main_fe_gnn/predicted_scores/data/density/genes_list_excluded.txt',names=['name'])\n"
   ]
  },
  {
   "cell_type": "code",
   "execution_count": 44,
   "metadata": {},
   "outputs": [
    {
     "data": {
      "text/html": [
       "<div>\n",
       "<style scoped>\n",
       "    .dataframe tbody tr th:only-of-type {\n",
       "        vertical-align: middle;\n",
       "    }\n",
       "\n",
       "    .dataframe tbody tr th {\n",
       "        vertical-align: top;\n",
       "    }\n",
       "\n",
       "    .dataframe thead th {\n",
       "        text-align: right;\n",
       "    }\n",
       "</style>\n",
       "<table border=\"1\" class=\"dataframe\">\n",
       "  <thead>\n",
       "    <tr style=\"text-align: right;\">\n",
       "      <th></th>\n",
       "      <th>name</th>\n",
       "    </tr>\n",
       "  </thead>\n",
       "  <tbody>\n",
       "    <tr>\n",
       "      <th>0</th>\n",
       "      <td>CDH1</td>\n",
       "    </tr>\n",
       "    <tr>\n",
       "      <th>1</th>\n",
       "      <td>MTOR</td>\n",
       "    </tr>\n",
       "    <tr>\n",
       "      <th>2</th>\n",
       "      <td>KMT2B</td>\n",
       "    </tr>\n",
       "    <tr>\n",
       "      <th>3</th>\n",
       "      <td>HRAS</td>\n",
       "    </tr>\n",
       "    <tr>\n",
       "      <th>4</th>\n",
       "      <td>TP53</td>\n",
       "    </tr>\n",
       "    <tr>\n",
       "      <th>...</th>\n",
       "      <td>...</td>\n",
       "    </tr>\n",
       "    <tr>\n",
       "      <th>79</th>\n",
       "      <td>SRC</td>\n",
       "    </tr>\n",
       "    <tr>\n",
       "      <th>80</th>\n",
       "      <td>NOTCH2</td>\n",
       "    </tr>\n",
       "    <tr>\n",
       "      <th>81</th>\n",
       "      <td>PRKDC</td>\n",
       "    </tr>\n",
       "    <tr>\n",
       "      <th>82</th>\n",
       "      <td>ESR1</td>\n",
       "    </tr>\n",
       "    <tr>\n",
       "      <th>83</th>\n",
       "      <td>ERBB2</td>\n",
       "    </tr>\n",
       "  </tbody>\n",
       "</table>\n",
       "<p>84 rows × 1 columns</p>\n",
       "</div>"
      ],
      "text/plain": [
       "      name\n",
       "0     CDH1\n",
       "1     MTOR\n",
       "2    KMT2B\n",
       "3     HRAS\n",
       "4     TP53\n",
       "..     ...\n",
       "79     SRC\n",
       "80  NOTCH2\n",
       "81   PRKDC\n",
       "82    ESR1\n",
       "83   ERBB2\n",
       "\n",
       "[84 rows x 1 columns]"
      ]
     },
     "execution_count": 44,
     "metadata": {},
     "output_type": "execute_result"
    }
   ],
   "source": []
  },
  {
   "cell_type": "code",
   "execution_count": 45,
   "metadata": {},
   "outputs": [],
   "source": [
    "col=['name']\n",
    "cdgs=pd.read_table('/root/autodl-tmp/HGDC-master/data/796_drivers.txt',names=col)"
   ]
  },
  {
   "cell_type": "code",
   "execution_count": 47,
   "metadata": {},
   "outputs": [
    {
     "name": "stdout",
     "output_type": "stream",
     "text": [
      "      name\n",
      "2    KMT2B\n",
      "35   HSPA8\n",
      "37  IQGAP1\n",
      "40  ITGA2B\n",
      "41   SYNE1\n",
      "42  TNRC6A\n",
      "45     VWF\n",
      "46     FN1\n",
      "47  TNRC6B\n",
      "52    SOS1\n",
      "54    MED1\n",
      "59     FYN\n",
      "62   PLCG2\n",
      "70   PRKCA\n",
      "74   KAT2B\n",
      "81   PRKDC\n"
     ]
    }
   ],
   "source": [
    "intersection = set(ff.iloc[:,0]).difference(set(cdgs.iloc[:, 0]))\n",
    "# 将交集转换为 Series 并显示\n",
    "intersection_series = pd.Series(list(intersection))\n",
    "intersection_series  # 显示交集的前几个元素\n",
    "cd_PN=ff[ff.iloc[:,0].isin(intersection_series)]\n",
    "print(cd_PN)"
   ]
  },
  {
   "cell_type": "code",
   "execution_count": null,
   "metadata": {},
   "outputs": [],
   "source": []
  }
 ],
 "metadata": {
  "kernelspec": {
   "display_name": "my-env",
   "language": "python",
   "name": "python3"
  },
  "language_info": {
   "codemirror_mode": {
    "name": "ipython",
    "version": 3
   },
   "file_extension": ".py",
   "mimetype": "text/x-python",
   "name": "python",
   "nbconvert_exporter": "python",
   "pygments_lexer": "ipython3",
   "version": "3.8.8"
  },
  "orig_nbformat": 4
 },
 "nbformat": 4,
 "nbformat_minor": 2
}
