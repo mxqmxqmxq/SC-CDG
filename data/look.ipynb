{
 "cells": [
  {
   "cell_type": "code",
   "execution_count": 1,
   "metadata": {},
   "outputs": [],
   "source": [
    "import pickle\n",
    "import torch\n",
    "from torch_geometric.data import Data\n",
    "from sklearn.preprocessing import StandardScaler\n",
    "\n",
    "def load_obj( name ):\n",
    "    \"\"\"\n",
    "    Load dataset from pickle file.\n",
    "    :param name: Full pathname of the pickle file\n",
    "    :return: Dataset type of dictionary\n",
    "    \"\"\"\n",
    "    with open( name , 'rb') as f:\n",
    "        return pickle.load(f)\n",
    "\n",
    "\n",
    "# When setting is_5_CV_test=True, make sure the pkl file include masks of different 5CV splits.\n",
    "# args.dataset_file='./data/GGNet/dataset_GGNet_ten_5CV.pkl'\n",
    "# args.is_5_CV_test = Ture\n",
    "\n",
    "def load_net_specific_data(args):\n",
    "    \"\"\"\n",
    "    Load network-specific dataset from the pickle file.\n",
    "    :param args: Arguments received from command line\n",
    "    :return: Data for training model (class: 'torch_geometric.data.Data')\n",
    "    \"\"\"\n",
    "    dataset = load_obj(args.dataset_file)\n",
    "\n",
    "    std = StandardScaler()\n",
    "    features = std.fit_transform(dataset['feature'].detach().numpy())\n",
    "    features = torch.FloatTensor(features)\n",
    "    \n",
    "    if args.is_5_CV_test:\n",
    "        mask = dataset['split_set']\n",
    "    else:\n",
    "        mask = dataset['mask']\n",
    "    data = Data(x=features, y=dataset['label'], edge_index=dataset['edge_index'], mask=mask, node_names=dataset['node_name'])\n",
    "    return data\n"
   ]
  },
  {
   "cell_type": "code",
   "execution_count": 6,
   "metadata": {},
   "outputs": [
    {
     "name": "stderr",
     "output_type": "stream",
     "text": [
      "usage: ipykernel_launcher.py [-h] [--is_5_CV_test IS_5_CV_TEST]\n",
      "                             [--dataset_file DATASET_FILE] [--epochs EPOCHS]\n",
      "                             [--lr LR] [--w_decay W_DECAY]\n",
      "                             [--in_channels IN_CHANNELS]\n",
      "                             [--hidden_channels HIDDEN_CHANNELS]\n",
      "                             [--device DEVICE]\n",
      "ipykernel_launcher.py: error: unrecognized arguments: --ip=127.0.0.1 --stdin=9003 --control=9001 --hb=9000 --Session.signature_scheme=\"hmac-sha256\" --Session.key=b\"741781b2-6dae-4375-9b43-6fbc022c96ad\" --shell=9002 --transport=\"tcp\" --iopub=9004 --f=/root/.local/share/jupyter/runtime/kernel-v2-12669MicTvWqsURfB.json\n"
     ]
    },
    {
     "ename": "SystemExit",
     "evalue": "2",
     "output_type": "error",
     "traceback": [
      "An exception has occurred, use %tb to see the full traceback.\n",
      "\u001b[0;31mSystemExit\u001b[0m\u001b[0;31m:\u001b[0m 2\n"
     ]
    }
   ],
   "source": [
    "import argparse\n",
    "import numpy as np\n",
    "import torch\n",
    "from sklearn import metrics\n",
    "from data_loader import load_net_specific_data\n",
    "import torch.nn.functional as F\n",
    "parser = argparse.ArgumentParser()\n",
    "parser.add_argument('--is_5_CV_test', type=bool, default=True, help='Run 5-CV test.')\n",
    "parser.add_argument('--dataset_file', type=str, default='./data/PathNet/dataset_PathNet_ten_5CV.pkl',\n",
    "                    help='The path of the input pkl file.')  # When setting is_5_CV_test=True, make sure the pkl file include masks of different 5CV splits.\n",
    "parser.add_argument('--epochs', type=int, default=100, help='Number of epochs to train.')\n",
    "parser.add_argument('--lr', type=float, default=0.001, help='Initial learning rate.')\n",
    "parser.add_argument('--w_decay', type=float, default=0.00001, help='Weight decay (L2 loss on parameters).')\n",
    "parser.add_argument('--in_channels', type=int, default=58, help='Dimension of node features.')\n",
    "parser.add_argument('--hidden_channels', type=int, default=100, help='Dimension of hidden Linear layers.')\n",
    "parser.add_argument('--device', type=int, default=0, help='The id of GPU.')\n",
    "args = parser.parse_args()\n",
    "device = torch.device('cuda:%d' % args.device if torch.cuda.is_available() else 'cpu')\n",
    "data = load_net_specific_data(args)"
   ]
  },
  {
   "cell_type": "code",
   "execution_count": null,
   "metadata": {},
   "outputs": [],
   "source": []
  }
 ],
 "metadata": {
  "kernelspec": {
   "display_name": "my-env",
   "language": "python",
   "name": "python3"
  },
  "language_info": {
   "codemirror_mode": {
    "name": "ipython",
    "version": 3
   },
   "file_extension": ".py",
   "mimetype": "text/x-python",
   "name": "python",
   "nbconvert_exporter": "python",
   "pygments_lexer": "ipython3",
   "version": "3.8.8"
  },
  "orig_nbformat": 4
 },
 "nbformat": 4,
 "nbformat_minor": 2
}
